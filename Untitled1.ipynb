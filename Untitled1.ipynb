{
 "cells": [
  {
   "cell_type": "code",
   "execution_count": 1,
   "id": "5e6736db-fd5a-4483-ad34-5036f003437b",
   "metadata": {},
   "outputs": [],
   "source": [
    "# Import required libraries\n",
    "import os\n",
    "import time\n",
    "import json\n",
    "import csv\n",
    "from bs4 import BeautifulSoup\n",
    "from selenium import webdriver\n",
    "from selenium.webdriver.common.by import By\n",
    "from selenium.webdriver.support.ui import WebDriverWait\n",
    "from selenium.webdriver.support import expected_conditions as EC\n",
    "from selenium.common.exceptions import TimeoutException\n",
    "import pandas as pd\n",
    "import requests\n"
   ]
  },
  {
   "cell_type": "code",
   "execution_count": 2,
   "id": "1951cab8-24e9-4e29-920c-b79dd7477b90",
   "metadata": {},
   "outputs": [],
   "source": [
    "\n",
    "# Set up LinkedIn job search URLs\n",
    "microsoft_url = \"https://www.linkedin.com/jobs/search?location=India&geoId=102713980&f_C=1035&position=1&pageNum=0\"\n",
    "google_url = \"https://www.linkedin.com/jobs/search?keywords=&location=India&geoId=102713980&f_C=1441\"\n",
    "amazon_url = \"https://www.linkedin.com/jobs/search?keywords=&location=India&geoId=102713980&f_TPR=r86400&f_C=1586&position=1&pageNum=0\"\n"
   ]
  },
  {
   "cell_type": "code",
   "execution_count": 3,
   "id": "79c904ba-959d-494a-9f3b-6ab1f9356c6e",
   "metadata": {},
   "outputs": [],
   "source": [
    "\n",
    "# Set up ChromeDriver for Selenium\n",
    "chrome_options = webdriver.ChromeOptions()\n",
    "chrome_options.add_argument(\"--headless\")\n",
    "chrome_options.add_argument(\"--no-sandbox\")\n",
    "chrome_options.add_argument(\"--disable-dev-shm-usage\")\n",
    "chrome_options.add_argument(\"--window-size=1920,1080\")  # set window size\n",
    "chrome_options.add_argument(\"--disable-gpu\")  # disable GPU acceleration\n"
   ]
  },
  {
   "cell_type": "code",
   "execution_count": 4,
   "id": "0a2fb482-f5ab-4e48-bbdc-de3dd51291f5",
   "metadata": {},
   "outputs": [],
   "source": [
    "\n",
    "# Initialize lists to store job data\n",
    "jobs = []\n"
   ]
  },
  {
   "cell_type": "code",
   "execution_count": 5,
   "id": "e3baec7a-5308-4392-9c04-a49e9712d585",
   "metadata": {},
   "outputs": [],
   "source": [
    "\n",
    "# Function to extract job data from a single job posting\n",
    "def extract_job_data(job_element):\n",
    "    job = {}\n",
    "    job[\"company\"] = job_element.find_element(By.CSS_SELECTOR, \"span.company-name\").text.strip()\n",
    "    job[\"linkedin_job_id\"] = job_element.get_attribute(\"data-id\")\n",
    "    job[\"job_title\"] = job_element.find_element(By.CSS_SELECTOR, \"h3.job-title\").text.strip()\n",
    "    job[\"location\"] = job_element.find_element(By.CSS_SELECTOR, \"span.location\").text.strip()\n",
    "    posted_on_element = job_element.find_element(By.CSS_SELECTOR, \"span.posted-on\")\n",
    "    job[\"posted_on\"] = posted_on_element.text.strip()\n",
    "    job[\"posted_date\"] = posted_on_element.get_attribute(\"datetime\")\n",
    "    job[\"employment_type\"] = job_element.find_element(By.CSS_SELECTOR, \"span.employment-type\").text\n",
    "    return job\n"
   ]
  },
  {
   "cell_type": "code",
   "execution_count": 6,
   "id": "bd528e22-d033-4c3b-8770-4e22d736c692",
   "metadata": {},
   "outputs": [],
   "source": [
    "\n",
    "# Function to scrape job postings from a single page\n",
    "def scrape_jobs(url):\n",
    "    driver = webdriver.Chrome(options=chrome_options)\n",
    "    driver.get(url)\n",
    "    try:\n",
    "        # Wait for job postings to load\n",
    "        WebDriverWait(driver, 30).until(EC.presence_of_element_located((By.CSS_SELECTOR, \".job-card\")))\n",
    "        print(\"Job postings loaded\")\n",
    "        job_elements = driver.find_elements(By.CSS_SELECTOR, \".job-card\")\n",
    "        print(f\"Found {len(job_elements)} job postings\")\n",
    "        for job_element in job_elements:\n",
    "            job = extract_job_data(job_element)\n",
    "            jobs.append(job)\n",
    "    except TimeoutException:\n",
    "        print(\"Timed out waiting for job postings to load\")\n",
    "    finally:\n",
    "        driver.quit()\n"
   ]
  },
  {
   "cell_type": "code",
   "execution_count": 7,
   "id": "4a433379-815d-401f-b5d9-34fcc966e0d2",
   "metadata": {},
   "outputs": [
    {
     "name": "stdout",
     "output_type": "stream",
     "text": [
      "Timed out waiting for job postings to load\n",
      "Timed out waiting for job postings to load\n",
      "Timed out waiting for job postings to load\n"
     ]
    }
   ],
   "source": [
    "\n",
    "# Scrape job postings from all pages\n",
    "scrape_jobs(microsoft_url)\n",
    "time.sleep(10)  # wait for 10 seconds\n",
    "scrape_jobs(google_url)\n",
    "time.sleep(10)  # wait for 10 seconds\n",
    "scrape_jobs(amazon_url)\n",
    "\n"
   ]
  },
  {
   "cell_type": "code",
   "execution_count": 8,
   "id": "5e65f1a1-13ff-4377-a040-2fb2eb82e67b",
   "metadata": {},
   "outputs": [
    {
     "name": "stdout",
     "output_type": "stream",
     "text": [
      "No job postings found\n"
     ]
    }
   ],
   "source": [
    "# Print a sample job posting\n",
    "if jobs:\n",
    "    print(jobs[0])\n",
    "else:\n",
    "    print(\"No job postings found\")\n"
   ]
  },
  {
   "cell_type": "code",
   "execution_count": 9,
   "id": "92ee64bd-2a0d-49d7-9313-4342bffe9255",
   "metadata": {},
   "outputs": [
    {
     "name": "stdout",
     "output_type": "stream",
     "text": [
      "No job data to save\n"
     ]
    }
   ],
   "source": [
    "\n",
    "# Save job data to a CSV file\n",
    "if jobs:\n",
    "    df = pd.DataFrame(jobs)\n",
    "    df.to_csv(\"job_postings.csv\", index=False)\n",
    "    print(\"Job data saved to job_postings.csv\")\n",
    "else:\n",
    "    print(\"No job data to save\")"
   ]
  },
  {
   "cell_type": "code",
   "execution_count": null,
   "id": "7c4813ea-2902-428e-88c4-5cbc10c7031d",
   "metadata": {},
   "outputs": [],
   "source": []
  }
 ],
 "metadata": {
  "kernelspec": {
   "display_name": "Python 3 (ipykernel)",
   "language": "python",
   "name": "python3"
  },
  "language_info": {
   "codemirror_mode": {
    "name": "ipython",
    "version": 3
   },
   "file_extension": ".py",
   "mimetype": "text/x-python",
   "name": "python",
   "nbconvert_exporter": "python",
   "pygments_lexer": "ipython3",
   "version": "3.12.4"
  }
 },
 "nbformat": 4,
 "nbformat_minor": 5
}
